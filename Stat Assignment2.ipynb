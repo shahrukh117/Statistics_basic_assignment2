{
 "cells": [
  {
   "cell_type": "markdown",
   "id": "64c76242-d201-4552-be6c-0ccdd9ca6ab9",
   "metadata": {},
   "source": [
    "### Q1. What are the three measures of central tendency?"
   ]
  },
  {
   "cell_type": "markdown",
   "id": "a41d141b-1c06-4e20-9ca1-f210a12384c8",
   "metadata": {},
   "source": [
    "There are three main measures of central tendency:\n",
    "\n",
    "1. mean\n",
    "\n",
    "2. median\n",
    "\n",
    "3. mode"
   ]
  },
  {
   "cell_type": "markdown",
   "id": "1e42b892-c456-415d-a8c1-0c9c911a1b1e",
   "metadata": {},
   "source": [
    "### Q2. What is the difference between the mean, median, and mode? How are they used to measure the central tendency of a dataset?"
   ]
  },
  {
   "cell_type": "markdown",
   "id": "3387c8f2-f3b4-4114-9956-3207966d65b2",
   "metadata": {},
   "source": [
    "The mean is the average where the sum of all the numbers is divided by the total number of numbers, whereas the median is the middle value in the list of given numbers numerically ordered from smallest to biggest and mode is the value of the number which occurs most often in the list."
   ]
  },
  {
   "cell_type": "markdown",
   "id": "95803fa2-d11f-4db6-b8f6-5ee9805bd6f3",
   "metadata": {},
   "source": [
    "### Q3. Measure the three measures of central tendency for the given height data:\n",
    "[178,177,176,177,178.2,178,175,179,180,175,178.9,176.2,177,172.5,178,176.5]"
   ]
  },
  {
   "cell_type": "code",
   "execution_count": 1,
   "id": "c2c8fcfa-8319-471a-828b-0af464c5fbbe",
   "metadata": {},
   "outputs": [
    {
     "data": {
      "text/plain": [
       "177.01875"
      ]
     },
     "execution_count": 1,
     "metadata": {},
     "output_type": "execute_result"
    }
   ],
   "source": [
    "l = [178,177,176,177,178.2,178,175,179,180,175,178.9,176.2,177,172.5,178,176.5]\n",
    "import numpy as np\n",
    "np.mean(l)"
   ]
  },
  {
   "cell_type": "code",
   "execution_count": 2,
   "id": "2d465175-fc86-4ef0-a7c8-874f1e26aa1e",
   "metadata": {},
   "outputs": [
    {
     "data": {
      "text/plain": [
       "177.0"
      ]
     },
     "execution_count": 2,
     "metadata": {},
     "output_type": "execute_result"
    }
   ],
   "source": [
    "np.median(l)"
   ]
  },
  {
   "cell_type": "code",
   "execution_count": 6,
   "id": "8037d6b6-4e38-40b5-9893-54af0d68ac6a",
   "metadata": {},
   "outputs": [
    {
     "name": "stderr",
     "output_type": "stream",
     "text": [
      "/tmp/ipykernel_85/3491401086.py:2: FutureWarning: Unlike other reduction functions (e.g. `skew`, `kurtosis`), the default behavior of `mode` typically preserves the axis it acts along. In SciPy 1.11.0, this behavior will change: the default value of `keepdims` will become False, the `axis` over which the statistic is taken will be eliminated, and the value None will no longer be accepted. Set `keepdims` to True or False to avoid this warning.\n",
      "  stats.mode(l)\n"
     ]
    },
    {
     "data": {
      "text/plain": [
       "ModeResult(mode=array([177.]), count=array([3]))"
      ]
     },
     "execution_count": 6,
     "metadata": {},
     "output_type": "execute_result"
    }
   ],
   "source": [
    "from scipy import stats\n",
    "stats.mode(l)"
   ]
  },
  {
   "cell_type": "markdown",
   "id": "2f4d4536-78d1-47c3-83dc-6468ece38ddf",
   "metadata": {},
   "source": [
    "### Q4. Find the standard deviation for the given data:\n",
    "[178,177,176,177,178.2,178,175,179,180,175,178.9,176.2,177,172.5,178,176.5]"
   ]
  },
  {
   "cell_type": "code",
   "execution_count": 7,
   "id": "d8cf6e4a-18fa-4366-87e3-588e5ee8182f",
   "metadata": {},
   "outputs": [
    {
     "data": {
      "text/plain": [
       "1.7885814036548633"
      ]
     },
     "execution_count": 7,
     "metadata": {},
     "output_type": "execute_result"
    }
   ],
   "source": [
    "import numpy as np\n",
    "data = [178,177,176,177,178.2,178,175,179,180,175,178.9,176.2,177,172.5,178,176.5]\n",
    "np.std(data)"
   ]
  },
  {
   "cell_type": "markdown",
   "id": "9454de0c-9875-47a8-a340-109d9ba1174c",
   "metadata": {},
   "source": [
    "### Q5. How are measures of dispersion such as range, variance, and standard deviation used to describe the spread of a dataset? Provide an example."
   ]
  },
  {
   "cell_type": "markdown",
   "id": "5d426fb4-6228-46d9-b78f-5a48b8c44fdb",
   "metadata": {},
   "source": [
    "Measures of dispersion, including range, variance, and standard deviation, are used to quantify the extent to which data values deviate from the central tendency (mean, median) in a dataset. These measures provide insights into the spread, variability, or consistency of the data points."
   ]
  },
  {
   "cell_type": "markdown",
   "id": "30d93c92-d4eb-45ec-b266-58b4064dc0b7",
   "metadata": {},
   "source": [
    "#### 1. Range: \n",
    "The range is the difference between the maximum and minimum values in a dataset. It gives a simple measure of how spread out the values are."
   ]
  },
  {
   "cell_type": "code",
   "execution_count": 1,
   "id": "88010052-d5e4-4f8a-b487-19ea6f7c9008",
   "metadata": {},
   "outputs": [
    {
     "name": "stdout",
     "output_type": "stream",
     "text": [
      "28\n"
     ]
    }
   ],
   "source": [
    "import numpy as np\n",
    "data = [12, 15, 18, 22, 25, 28, 32, 35, 38, 40]\n",
    "data_range = np.ptp(data)\n",
    "print(data_range)"
   ]
  },
  {
   "cell_type": "markdown",
   "id": "55a663be-152c-4443-a7e4-f5fbef4ec15a",
   "metadata": {},
   "source": [
    "#### 2. Variance:\n",
    "Variance measures the average squared deviation of each data point from the mean. It provides a more comprehensive understanding of the data's spread"
   ]
  },
  {
   "cell_type": "code",
   "execution_count": 6,
   "id": "80d54444-9716-4185-902b-07a247ee9013",
   "metadata": {},
   "outputs": [
    {
     "name": "stdout",
     "output_type": "stream",
     "text": [
      "85.65\n"
     ]
    }
   ],
   "source": [
    "import numpy as np\n",
    "data = [12, 15, 18, 22, 25, 28, 32, 35, 38, 40]\n",
    "data_var = np.var(data)\n",
    "print(data_var)"
   ]
  },
  {
   "cell_type": "markdown",
   "id": "a6325445-6fef-4f57-9ff8-2be0404bcd4d",
   "metadata": {},
   "source": [
    "#### 3. Standard Deviation: \n",
    "The standard deviation is the square root of the variance. It is a widely used measure of the amount of variation or dispersion in a set of values."
   ]
  },
  {
   "cell_type": "code",
   "execution_count": 5,
   "id": "9c7f63ca-ba8d-4acb-8831-b518bead2453",
   "metadata": {},
   "outputs": [
    {
     "name": "stdout",
     "output_type": "stream",
     "text": [
      "9.254728521139883\n"
     ]
    }
   ],
   "source": [
    "import numpy as np\n",
    "data = [12, 15, 18, 22, 25, 28, 32, 35, 38, 40]\n",
    "data_std = np.std(data)\n",
    "print(data_std)"
   ]
  },
  {
   "cell_type": "markdown",
   "id": "b1339953-af02-4ffb-b588-ade954803860",
   "metadata": {},
   "source": [
    "### Q6. What is a Venn diagram?"
   ]
  },
  {
   "cell_type": "markdown",
   "id": "302fc2b8-37d6-4fe4-8f85-b3099015f73b",
   "metadata": {},
   "source": [
    "A Venn diagram is a visual representation of the relationships between different sets. It uses overlapping circles or other shapes to depict the similarities and differences between sets.\n",
    "\n",
    "#### Key features of a Venn diagram:\n",
    "\n",
    "##### Circles:\n",
    "Each circle in the diagram represents a set. The size of the circle is often proportional to the number of elements in the set.\n",
    "\n",
    "##### Overlapping Regions:\n",
    "Overlapping regions between circles represent the elements that are common to both sets. The size of the overlap indicates the extent of the intersection between the sets.\n",
    "\n",
    "##### Non-overlapping Regions:\n",
    "The portions of the circles that do not overlap show the elements that are unique to each set."
   ]
  },
  {
   "cell_type": "code",
   "execution_count": 7,
   "id": "2bf5a91b-e068-48a9-9e90-0b084c4af089",
   "metadata": {},
   "outputs": [
    {
     "name": "stdout",
     "output_type": "stream",
     "text": [
      "Collecting matplotlib_venn\n",
      "  Downloading matplotlib-venn-0.11.9.tar.gz (30 kB)\n",
      "  Installing build dependencies ... \u001b[?25ldone\n",
      "\u001b[?25h  Getting requirements to build wheel ... \u001b[?25ldone\n",
      "\u001b[?25h  Installing backend dependencies ... \u001b[?25ldone\n",
      "\u001b[?25h  Preparing metadata (pyproject.toml) ... \u001b[?25ldone\n",
      "\u001b[?25hRequirement already satisfied: matplotlib in /opt/conda/lib/python3.10/site-packages (from matplotlib_venn) (3.6.2)\n",
      "Requirement already satisfied: numpy in /opt/conda/lib/python3.10/site-packages (from matplotlib_venn) (1.23.5)\n",
      "Requirement already satisfied: scipy in /opt/conda/lib/python3.10/site-packages (from matplotlib_venn) (1.9.3)\n",
      "Requirement already satisfied: fonttools>=4.22.0 in /opt/conda/lib/python3.10/site-packages (from matplotlib->matplotlib_venn) (4.38.0)\n",
      "Requirement already satisfied: pillow>=6.2.0 in /opt/conda/lib/python3.10/site-packages (from matplotlib->matplotlib_venn) (9.2.0)\n",
      "Requirement already satisfied: packaging>=20.0 in /opt/conda/lib/python3.10/site-packages (from matplotlib->matplotlib_venn) (22.0)\n",
      "Requirement already satisfied: pyparsing>=2.2.1 in /opt/conda/lib/python3.10/site-packages (from matplotlib->matplotlib_venn) (3.0.9)\n",
      "Requirement already satisfied: python-dateutil>=2.7 in /opt/conda/lib/python3.10/site-packages (from matplotlib->matplotlib_venn) (2.8.2)\n",
      "Requirement already satisfied: contourpy>=1.0.1 in /opt/conda/lib/python3.10/site-packages (from matplotlib->matplotlib_venn) (1.0.6)\n",
      "Requirement already satisfied: cycler>=0.10 in /opt/conda/lib/python3.10/site-packages (from matplotlib->matplotlib_venn) (0.11.0)\n",
      "Requirement already satisfied: kiwisolver>=1.0.1 in /opt/conda/lib/python3.10/site-packages (from matplotlib->matplotlib_venn) (1.4.4)\n",
      "Requirement already satisfied: six>=1.5 in /opt/conda/lib/python3.10/site-packages (from python-dateutil>=2.7->matplotlib->matplotlib_venn) (1.16.0)\n",
      "Building wheels for collected packages: matplotlib_venn\n",
      "  Building wheel for matplotlib_venn (pyproject.toml) ... \u001b[?25ldone\n",
      "\u001b[?25h  Created wheel for matplotlib_venn: filename=matplotlib_venn-0.11.9-py3-none-any.whl size=32999 sha256=4d8ae0484c315cbbc23be076162aec9e58b71a31874e39bb3fa47dbf254a3d4e\n",
      "  Stored in directory: /home/jovyan/.cache/pip/wheels/ab/a1/93/9cbd4e11e6964009387cd595450dfcbb6998e15dfbaa5805dd\n",
      "Successfully built matplotlib_venn\n",
      "Installing collected packages: matplotlib_venn\n",
      "Successfully installed matplotlib_venn-0.11.9\n",
      "Note: you may need to restart the kernel to use updated packages.\n"
     ]
    }
   ],
   "source": [
    "pip install matplotlib_venn"
   ]
  },
  {
   "cell_type": "code",
   "execution_count": 8,
   "id": "a6693015-1e82-4aca-a727-a40751c101dd",
   "metadata": {},
   "outputs": [
    {
     "data": {
      "image/png": "[encoded data removed]",
      "text/plain": [
       "<Figure size 640x480 with 1 Axes>"
      ]
     },
     "metadata": {},
     "output_type": "display_data"
    }
   ],
   "source": [
    "import matplotlib.pyplot as plt\n",
    "from matplotlib_venn import venn2\n",
    "\n",
    "# Define the sets\n",
    "set_A = {1, 2, 3, 4}\n",
    "set_B = {3, 4, 5, 6}\n",
    "\n",
    "# Create a Venn diagram\n",
    "venn2([set_A, set_B], set_labels=('Set A', 'Set B'))\n",
    "\n",
    "# Display the plot\n",
    "plt.show()\n"
   ]
  },
  {
   "cell_type": "code",
   "execution_count": 9,
   "id": "332882ab-c90a-413b-b506-502875cfdc11",
   "metadata": {},
   "outputs": [
    {
     "data": {
      "image/png": "[encoded data removed]",
      "text/plain": [
       "<Figure size 640x480 with 1 Axes>"
      ]
     },
     "metadata": {},
     "output_type": "display_data"
    }
   ],
   "source": [
    "from matplotlib_venn import venn3\n",
    "\n",
    "set_C = {5, 6, 7, 8}\n",
    "\n",
    "venn3([set_A, set_B, set_C], set_labels=('Set A', 'Set B', 'Set C'))\n",
    "\n",
    "plt.show()\n"
   ]
  },
  {
   "cell_type": "markdown",
   "id": "cc0cde0e-1278-4516-945a-16592cd6d344",
   "metadata": {},
   "source": [
    "### Q7. For the two given sets A = (2,3,4,5,6,7) & B = (0,2,6,8,10). Find:\n",
    "(i) A intersection B\n",
    "\n",
    "(ii) A ⋃ B"
   ]
  },
  {
   "cell_type": "code",
   "execution_count": 10,
   "id": "c1910a60-31f4-4253-998b-352e54d519ac",
   "metadata": {},
   "outputs": [
    {
     "name": "stdout",
     "output_type": "stream",
     "text": [
      "{2, 6}\n"
     ]
    }
   ],
   "source": [
    "# Given sets\n",
    "set_A = {2, 3, 4, 5, 6, 7}\n",
    "set_B = {0, 2, 6, 8, 10}\n",
    "\n",
    "# (i) Intersection of A and B (A ∩ B)\n",
    "intersection_result = set_A.intersection(set_B)\n",
    "print(intersection_result)"
   ]
  },
  {
   "cell_type": "code",
   "execution_count": 11,
   "id": "e2905791-d6f2-4553-8b56-e51e29afd8a6",
   "metadata": {},
   "outputs": [
    {
     "name": "stdout",
     "output_type": "stream",
     "text": [
      "{0, 2, 3, 4, 5, 6, 7, 8, 10}\n"
     ]
    }
   ],
   "source": [
    "union_result = set_A.union(set_B)\n",
    "print(union_result)"
   ]
  },
  {
   "cell_type": "markdown",
   "id": "c54a1ebb-4ca7-4c2c-93df-56a261301665",
   "metadata": {},
   "source": [
    "### Q8. What do you understand about skewness in data?"
   ]
  },
  {
   "cell_type": "markdown",
   "id": "b0e5ece0-4465-46a3-9f23-f03c49782ca9",
   "metadata": {},
   "source": [
    "Skewness is a measure of the asymmetry of a distribution. A distribution is asymmetrical when its left and right side are not mirror images.\n",
    "\n",
    "A distribution can have right (or positive), left (or negative), or zero skewness. A right-skewed distribution is longer on the right side of its peak, and a left-skewed distribution is longer on the left side of its peak:"
   ]
  },
  {
   "cell_type": "markdown",
   "id": "098c6bfc-a99e-47d8-8721-63e3aaf0d155",
   "metadata": {},
   "source": [
    "#### Negative Skewness (Left Skewness):\n",
    "The left tail of the distribution is longer or fatter than the right tail. In other words, the mass of the distribution is concentrated on the right side, and the distribution is skewed to the left. The mean is typically less than the median in a negatively skewed distribution.\n",
    "#### Positive Skewness (Right Skewness): \n",
    "The right tail of the distribution is longer or fatter than the left tail. The mass of the distribution is concentrated on the left side, and the distribution is skewed to the right. In a positively skewed distribution, the mean is usually greater than the median.\n",
    "\n",
    "#### Zero Skewness:\n",
    "A distribution is considered symmetric if it has zero skewness. This means that the distribution is balanced, with the left and right sides being mirror images of each other."
   ]
  },
  {
   "cell_type": "code",
   "execution_count": 12,
   "id": "27981d52-0e32-4a9c-8323-6719252551e2",
   "metadata": {},
   "outputs": [
    {
     "name": "stdout",
     "output_type": "stream",
     "text": [
      "Skewness: 0.3031933393541439\n"
     ]
    }
   ],
   "source": [
    "import numpy as np\n",
    "\n",
    "data = np.array([2, 3, 3, 4, 4, 4, 5, 5, 6, 7])\n",
    "skewness = np.mean((data - np.mean(data))**3) / np.std(data)**3\n",
    "\n",
    "print(f\"Skewness: {skewness}\")\n"
   ]
  },
  {
   "cell_type": "markdown",
   "id": "8eb65de8-f45f-4b90-8498-bb460f7a9ea9",
   "metadata": {},
   "source": [
    "### Q9. If a data is right skewed then what will be the position of median with respect to mean?"
   ]
  },
  {
   "cell_type": "markdown",
   "id": "f4e5d546-a422-4a6c-8afa-ce45e8e52580",
   "metadata": {},
   "source": [
    "If a dataset is right-skewed (positively skewed), it means that the tail on the right side of the distribution is longer or fatter than the left side. In a right-skewed distribution:\n",
    "\n",
    "The mean (average) will be greater than the median.\n",
    "The median will be closer to the left (lower) end of the distribution than the mean."
   ]
  },
  {
   "cell_type": "markdown",
   "id": "159895a4-1c38-4db5-8aa5-dfdc2ee2d449",
   "metadata": {},
   "source": [
    "### Q10. Explain the difference between covariance and correlation. How are these measures used in statistical analysis?"
   ]
  },
  {
   "cell_type": "markdown",
   "id": "ea1329a0-ab6a-4ab1-9de8-f1c2b715a587",
   "metadata": {},
   "source": [
    "#### Covariance:\n",
    "\n",
    "Covariance measures the extent to which two variables change together. It indicates whether an increase in one variable corresponds to an increase or decrease in another.\n",
    "\n",
    "The formula for the covariance between two variables X and Y is given by:\n",
    "$$\n",
    "\\text{Cov}(X, Y) = \\frac{\\sum{(X_i - \\bar{X})(Y_i - \\bar{Y})}}{n - 1}\n",
    "$$\n"
   ]
  },
  {
   "cell_type": "markdown",
   "id": "92731542-213b-4d7f-a072-2864ac6e23de",
   "metadata": {},
   "source": [
    "\n",
    "where  \\( X_i \\) and \\( Y_i \\)  are individual data points, $ ( \\bar{X} ) $ and $ ( \\bar{Y} ) $ are the means of \\( X \\) and \\( Y \\), and \\( n \\) is the number of data points.\n"
   ]
  },
  {
   "cell_type": "markdown",
   "id": "c0143f10-ee26-4d48-889a-729c6f4ce52e",
   "metadata": {},
   "source": [
    "The units of covariance are the product of the units of the two variables."
   ]
  },
  {
   "cell_type": "markdown",
   "id": "2ccd294c-0adb-47d5-8b36-4340a069ec12",
   "metadata": {},
   "source": [
    "#### Correlation:\n",
    "\n",
    "Correlation is a standardized measure that indicates the strength and direction of the linear relationship between two variables. It ranges from -1 to 1, where -1 indicates a perfect negative linear relationship, 1 indicates a perfect positive linear relationship, and 0 indicates no linear relationship."
   ]
  },
  {
   "cell_type": "markdown",
   "id": "4b0058b6-835e-4473-a498-4509113a3413",
   "metadata": {},
   "source": [
    "The correlation coefficient (\\( r \\)) between two variables \\( X \\) and \\( Y \\) is calculated using the formula:\n",
    "$$\n",
    "\\text r = \\frac{\\text{Cov}(X, Y)}{\\sigma_X \\cdot \\sigma_Y} \n",
    "$$\n",
    "where $ ( \\text{Cov}(X, Y) ) $ is the covariance between \\( X \\) and \\( Y \\), and $ ( \\sigma_X ) and ( \\sigma_Y ) $ are the standard deviations of \\( X \\) and \\( Y \\), respectively.\n"
   ]
  },
  {
   "cell_type": "markdown",
   "id": "2ce169b0-90b7-409e-a6cd-023bf0d3dd08",
   "metadata": {},
   "source": [
    "Correlation is unitless and provides a more interpretable measure of the strength and direction of the relationship compared to covariance."
   ]
  },
  {
   "cell_type": "markdown",
   "id": "c1b96126-a60b-43c5-8ffb-f96cfe9af417",
   "metadata": {},
   "source": [
    "##### In statistical analysis:\n",
    "\n",
    "Covariance is used to understand the direction of the relationship between two variables. However, its value is not easily interpretable as it depends on the scales of the variables.\n",
    "\n",
    "Correlation is often preferred because it is standardized and allows for easy comparison of the strength and direction of relationships across different pairs of variables. Additionally, being unitless, correlation is not affected by changes in the scale of the variables."
   ]
  },
  {
   "cell_type": "markdown",
   "id": "eef509e1-7c77-426d-9520-9ea41ab8a6e4",
   "metadata": {},
   "source": [
    "### Q11. What is the formula for calculating the sample mean? Provide an example calculation for a dataset."
   ]
  },
  {
   "cell_type": "markdown",
   "id": "f9c1c6a9-dddc-47f6-ba06-c406ffdf6420",
   "metadata": {},
   "source": [
    "### Sample Mean Formula\n",
    "\n",
    "The sample mean $ (\\bar{x}) $ is calculated using the formula:\n",
    "\n",
    "$$\n",
    "\\bar{x} = \\frac{1}{n} \\sum_{i=1}^{n} x_i\n",
    "$$\n",
    "\n",
    "where:\n",
    "- $ (\\bar{x})$  is the sample mean,\n",
    "- $ (n) $ is the number of observations in the sample,\n",
    "- $ (x_i) $ is the value of the i-th observation.\n",
    "\n",
    "### Example Calculation\n",
    "\n",
    "Let's consider a dataset:\n",
    "\n",
    "$  \\{10, 15, 20, 25, 30\\}  $\n",
    "\n",
    "To find the sample mean:\n",
    "\n",
    "$\n",
    "\\bar{x} = \\frac{10 + 15 + 20 + 25 + 30}{5} = \\frac{100}{5} = 20\n",
    "$\n",
    "\n",
    "Therefore, the sample mean of this dataset is $ 20 $.\n"
   ]
  },
  {
   "cell_type": "markdown",
   "id": "b8cf1a32-f0d9-4609-8130-60c6d87d2792",
   "metadata": {},
   "source": [
    "### Q12. For a normal distribution data what is the relationship between its measure of central tendency?"
   ]
  },
  {
   "cell_type": "markdown",
   "id": "1aeec53e-b1b3-46af-a3a0-c4825f28b0ab",
   "metadata": {},
   "source": [
    "### Mean (μ):\n",
    "In a normal distribution, the mean is located at the center of the distribution. The mean is equal to the median, and they both coincide at the peak or center of the symmetric normal distribution.\n",
    "\n",
    "### Median:\n",
    "The median of a normal distribution is also equal to its mean. Since the normal distribution is symmetric, the median is the middle value, and this middle value is also the mean.\n",
    "\n",
    "### Mode:\n",
    "In a normal distribution, the mode is also equal to both the mean and the median. The peak of the normal distribution, where the data is most concentrated, represents the mode, and it coincides with the mean and median"
   ]
  },
  {
   "cell_type": "markdown",
   "id": "4c49bca6-4e53-4b96-bc86-937232d29412",
   "metadata": {},
   "source": [
    "### Q13. How is covariance different from correlation?"
   ]
  },
  {
   "cell_type": "markdown",
   "id": "98ac64ce-8b76-494b-92d6-d42b49188422",
   "metadata": {},
   "source": [
    "### Covariance vs. Correlation\n",
    "\n",
    "**1. Definition:**\n",
    "   - *Covariance:* Covariance is a measure of how much two variables change together. It indicates the direction of the linear relationship between two variables but doesn't provide the strength or magnitude of the relationship.\n",
    "   - *Correlation:* Correlation is a standardized measure that indicates both the direction and the strength of the relationship between two variables. Correlation values are always between -1 and 1.\n",
    "\n",
    "**2. Scale:**\n",
    "   - *Covariance:* The covariance value is not standardized and depends on the units of the variables being measured.\n",
    "   - *Correlation:* Correlation is standardized, and its values are unitless, making interpretation easier.\n",
    "\n",
    "**3. Interpretation:**\n",
    "   - *Covariance:* Positive covariance indicates a positive relationship, negative covariance indicates a negative relationship, and covariance close to zero suggests a weak or no linear relationship.\n",
    "   - *Correlation:* +1 indicates a perfect positive linear relationship, -1 indicates a perfect negative linear relationship, and 0 indicates no linear relationship.\n",
    "\n",
    "**4. Normalization:**\n",
    "   - *Covariance:* Not normalized and depends on variable scales.\n",
    "   - *Correlation:* Normalized, making it easier to compare relationships between variables with different scales."
   ]
  },
  {
   "cell_type": "markdown",
   "id": "969173d5-364c-4e55-adc8-f92538e48564",
   "metadata": {},
   "source": [
    "### Q14. How do outliers affect measures of central tendency and dispersion? Provide an example."
   ]
  },
  {
   "cell_type": "markdown",
   "id": "840b5187-4f2c-4927-88a0-92752ad22cfc",
   "metadata": {},
   "source": [
    "### Impact of Outliers on Measures of Central Tendency and Dispersion\n",
    "\n",
    "#### Central Tendency:\n",
    "\n",
    "1. **Mean:**\n",
    "   - *Without Outliers:* The mean is the sum of all values divided by the number of values, representing the average.\n",
    "   - *With Outliers:* Outliers can distort the mean, pulling it towards extreme values.\n",
    "\n",
    "2. **Median:**\n",
    "   - *Without Outliers:* The median is the middle value when the data is sorted, less affected by extreme values.\n",
    "   - *With Outliers:* More robust to outliers compared to the mean.\n",
    "\n",
    "3. **Mode:**\n",
    "   - *Without Outliers:* The mode is the most frequently occurring value, generally not affected by outliers.\n",
    "   - *With Outliers:* Outliers usually do not influence the mode.\n",
    "\n",
    "#### Dispersion:\n",
    "\n",
    "1. **Range:**\n",
    "   - *Without Outliers:* The range is the difference between the maximum and minimum values, sensitive to outliers.\n",
    "   - *With Outliers:* Outliers can significantly increase the range.\n",
    "\n",
    "2. **Interquartile Range (IQR):**\n",
    "   - *Without Outliers:* IQR is the range of the middle 50% of the data, less sensitive to extreme values.\n",
    "   - *With Outliers:* More robust to outliers compared to the range.\n",
    "\n",
    "3. **Variance and Standard Deviation:**\n",
    "   - *Without Outliers:* Variance and standard deviation measure the spread around the mean, influenced by extreme values.\n",
    "   - *With Outliers:* Outliers can increase variance and standard deviation significantly.\n",
    "\n",
    "#### Example:\n",
    "\n",
    "Consider the dataset: \\[2, 4, 5, 6, 8, 10, 12, 100\\]\n",
    "\n",
    "- *Without Outliers:*\n",
    "  - Mean = $ \\frac{2+4+5+6+8+10+12}{7} \\approx 6.71 $\n",
    "  - Median = 6\n",
    "  - Range = 100 - 2 = 98\n",
    "  - IQR = 10 - 5 = 5\n",
    "  - Variance and Standard Deviation are calculated based on the values.\n",
    "\n",
    "- *With Outliers:*\n",
    "  - If we include the outlier 100:\n",
    "    - Mean = $ \\frac{2+4+5+6+8+10+12+100}{8} \\approx 18.25 $\n",
    "    - Median = 7\n",
    "    - Range = 100 - 2 = 98\n",
    "    - IQR = 10 - 5 = 5\n",
    "    - Variance and Standard Deviation would increase significantly.\n",
    "\n",
    "In this example, the mean is strongly influenced by the outlier, while the median, range, and IQR are more robust measures less affected by extreme values.\n"
   ]
  },
  {
   "cell_type": "code",
   "execution_count": 4,
   "id": "7128b31a-e89d-4942-a66d-67a1de02f516",
   "metadata": {},
   "outputs": [
    {
     "name": "stdout",
     "output_type": "stream",
     "text": [
      "Mean = 6.714285714285714\n",
      "Median = 6.0\n",
      "Mode = ModeResult(mode=array([2]), count=array([1]))\n"
     ]
    },
    {
     "name": "stderr",
     "output_type": "stream",
     "text": [
      "/tmp/ipykernel_84/2439866541.py:9: FutureWarning: Unlike other reduction functions (e.g. `skew`, `kurtosis`), the default behavior of `mode` typically preserves the axis it acts along. In SciPy 1.11.0, this behavior will change: the default value of `keepdims` will become False, the `axis` over which the statistic is taken will be eliminated, and the value None will no longer be accepted. Set `keepdims` to True or False to avoid this warning.\n",
      "  data_mode = stats.mode(data_set)\n"
     ]
    }
   ],
   "source": [
    "# without outliners\n",
    "import numpy as np\n",
    "from scipy import stats\n",
    "data_set = [2, 4, 5, 6, 8, 10, 12]\n",
    "data_mean = np.mean(data_set)\n",
    "print(\"Mean =\", data_mean)\n",
    "data_median = np.median(data_set)\n",
    "print(\"Median =\", data_median)\n",
    "data_mode = stats.mode(data_set)\n",
    "print(\"Mode =\", data_mode)"
   ]
  },
  {
   "cell_type": "code",
   "execution_count": 7,
   "id": "2b28676c-8c35-4d9f-b5be-f7b33007342d",
   "metadata": {},
   "outputs": [
    {
     "name": "stdout",
     "output_type": "stream",
     "text": [
      "Mean = 18.375\n",
      "Median = 7.0\n",
      "Mode = ModeResult(mode=array([2]), count=array([1]))\n"
     ]
    },
    {
     "name": "stderr",
     "output_type": "stream",
     "text": [
      "/tmp/ipykernel_84/3197183221.py:9: FutureWarning: Unlike other reduction functions (e.g. `skew`, `kurtosis`), the default behavior of `mode` typically preserves the axis it acts along. In SciPy 1.11.0, this behavior will change: the default value of `keepdims` will become False, the `axis` over which the statistic is taken will be eliminated, and the value None will no longer be accepted. Set `keepdims` to True or False to avoid this warning.\n",
      "  data_mode = stats.mode(data_set)\n"
     ]
    }
   ],
   "source": [
    "# without outliners\n",
    "import numpy as np\n",
    "from scipy import stats\n",
    "data_set = [2, 4, 5, 6, 8, 10, 12, 100]\n",
    "data_mean = np.mean(data_set)\n",
    "print(\"Mean =\", data_mean)\n",
    "data_median = np.median(data_set)\n",
    "print(\"Median =\", data_median)\n",
    "data_mode = stats.mode(data_set)\n",
    "print(\"Mode =\", data_mode)"
   ]
  },
  {
   "cell_type": "markdown",
   "id": "516f23a8-fd29-4d74-842f-8f82255335c5",
   "metadata": {},
   "source": [
    "*** $$ \\text{Assignment End} $$ ***"
   ]
  },
  {
   "cell_type": "code",
   "execution_count": null,
   "id": "af307bd8-21c7-4b17-adf6-44944cde158d",
   "metadata": {},
   "outputs": [],
   "source": []
  }
 ],
 "metadata": {
  "kernelspec": {
   "display_name": "Python 3 (ipykernel)",
   "language": "python",
   "name": "python3"
  },
  "language_info": {
   "codemirror_mode": {
    "name": "ipython",
    "version": 3
   },
   "file_extension": ".py",
   "mimetype": "text/x-python",
   "name": "python",
   "nbconvert_exporter": "python",
   "pygments_lexer": "ipython3",
   "version": "3.10.8"
  }
 },
 "nbformat": 4,
 "nbformat_minor": 5
}
